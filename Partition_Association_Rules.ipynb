{
 "cells": [
  {
   "cell_type": "code",
   "execution_count": 1,
   "metadata": {},
   "outputs": [],
   "source": [
    "import pandas as pd\n",
    "import Apriori as ap\n",
    "import numpy as np"
   ]
  },
  {
   "cell_type": "code",
   "execution_count": 2,
   "metadata": {},
   "outputs": [],
   "source": [
    "data = pd.read_csv('GroceryStoreDataSet.csv',header=None)"
   ]
  },
  {
   "cell_type": "code",
   "execution_count": 8,
   "metadata": {},
   "outputs": [],
   "source": [
    "min_support=0.25\n",
    "partition1 = data[0:int(len(data)/2)]\n",
    "partition2 = data[int(len(data)/2):len(data)]\n",
    "partition1.to_csv('part1.csv',index=False,header=None)\n",
    "partition2.to_csv('part2.csv',index=False,header=None)"
   ]
  },
  {
   "cell_type": "code",
   "execution_count": 9,
   "metadata": {},
   "outputs": [],
   "source": [
    "freq_set1 = ap.Apriory('part1.csv',min_support)\n",
    "freq_set1 = [list(x) for x in freq_set1]\n",
    "freq_set2 = ap.Apriory('part2.csv',min_support)\n",
    "freq_set2 = [list(x) for x in freq_set2]"
   ]
  },
  {
   "cell_type": "code",
   "execution_count": 10,
   "metadata": {},
   "outputs": [],
   "source": [
    "freq_set = freq_set1\n",
    "for i in range(len(freq_set2)):\n",
    "    if(freq_set2[i] not in freq_set):\n",
    "        freq_set.append(freq_set2[i])\n",
    "#freq_set = [set(x) for x in freq_set]"
   ]
  },
  {
   "cell_type": "code",
   "execution_count": 11,
   "metadata": {},
   "outputs": [],
   "source": [
    "newdata = []\n",
    "for i in range(len(data)):\n",
    "    temp = data[0][i]\n",
    "    newdata.append(temp.split(','))"
   ]
  },
  {
   "cell_type": "code",
   "execution_count": 14,
   "metadata": {},
   "outputs": [
    {
     "name": "stdout",
     "output_type": "stream",
     "text": [
      "[5, 13, 7, 7, 5, 4, 4, 4, 3, 4, 8, 3, 6, 6, 3, 4, 4, 3, 4]\n",
      "20\n",
      "Frequent Set is :  [['MILK'], ['BREAD'], ['BISCUIT'], ['TEA'], ['MAGGI'], ['COFFEE'], ['CORNFLAKES'], ['SUGER']]\n"
     ]
    }
   ],
   "source": [
    "count = [0 for i in range(len(freq_set))]\n",
    "for i in range(len(newdata)):\n",
    "    for j in range(len(freq_set)):\n",
    "        if(set(freq_set[j]).issubset(set(newdata[i]))):\n",
    "            count[j] = count[j]+1\n",
    "            \n",
    "final_freq_set = []\n",
    "for i in range(len(freq_set)):\n",
    "    if (count[i]>=min_support*len(data)):\n",
    "        final_freq_set.append(freq_set[i])\n",
    "print('Frequent Set is : ',final_freq_set)"
   ]
  },
  {
   "cell_type": "code",
   "execution_count": null,
   "metadata": {},
   "outputs": [],
   "source": []
  }
 ],
 "metadata": {
  "kernelspec": {
   "display_name": "Python 3",
   "language": "python",
   "name": "python3"
  },
  "language_info": {
   "codemirror_mode": {
    "name": "ipython",
    "version": 3
   },
   "file_extension": ".py",
   "mimetype": "text/x-python",
   "name": "python",
   "nbconvert_exporter": "python",
   "pygments_lexer": "ipython3",
   "version": "3.7.3"
  }
 },
 "nbformat": 4,
 "nbformat_minor": 2
}
